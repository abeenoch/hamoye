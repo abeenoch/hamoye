{
 "cells": [
  {
   "cell_type": "markdown",
   "metadata": {},
   "source": [
    "## Hamoye ML Project Electric Cars - Team Prophet v3.2"
   ]
  },
  {
   "cell_type": "markdown",
   "metadata": {},
   "source": [
    "#### The aim of this project was to predict EV prices based on various features and utilities."
   ]
  },
  {
   "cell_type": "markdown",
   "metadata": {},
   "source": [
    "This experiment version 3.2 is based on following points:\n",
    "#Replace fast-charge null with numeical value zero, as few cars don't support fast-charge.\n",
    "#Keep Outliers in price germany\n",
    "#German null prices get from pound and netherland columns.\n",
    "#Train Test Split Random state=101, test_size= 0.3\n",
    "#Encoding for Vehicle Names using pd.get_dummies method\n",
    "#Drop Seats column from features, as it doesnt have linear relation with price.\n",
    "#This is final iteration of experiment."
   ]
  },
  {
   "cell_type": "markdown",
   "metadata": {},
   "source": [
    "#### The data was scraped from Web, source URL: https://ev-database.org/"
   ]
  },
  {
   "cell_type": "code",
   "execution_count": 1,
   "metadata": {},
   "outputs": [],
   "source": [
    "#Importing necessary libraries\n",
    "import pandas as pd\n",
    "import numpy as np\n",
    "import seaborn as sns\n",
    "import matplotlib.pyplot as plt"
   ]
  },
  {
   "cell_type": "code",
   "execution_count": 2,
   "metadata": {},
   "outputs": [],
   "source": [
    "df = pd.read_csv('D:\\People\\Amit\\Hamoye\\project\\\\electric_cars.csv', index_col=0)"
   ]
  },
  {
   "cell_type": "code",
   "execution_count": 3,
   "metadata": {},
   "outputs": [
    {
     "data": {
      "text/html": [
       "<div>\n",
       "<style scoped>\n",
       "    .dataframe tbody tr th:only-of-type {\n",
       "        vertical-align: middle;\n",
       "    }\n",
       "\n",
       "    .dataframe tbody tr th {\n",
       "        vertical-align: top;\n",
       "    }\n",
       "\n",
       "    .dataframe thead th {\n",
       "        text-align: right;\n",
       "    }\n",
       "</style>\n",
       "<table border=\"1\" class=\"dataframe\">\n",
       "  <thead>\n",
       "    <tr style=\"text-align: right;\">\n",
       "      <th></th>\n",
       "      <th>vehicle_name</th>\n",
       "      <th>model</th>\n",
       "      <th>battery</th>\n",
       "      <th>seats</th>\n",
       "      <th>acceleration</th>\n",
       "      <th>top_speed</th>\n",
       "      <th>distance</th>\n",
       "      <th>efficiency</th>\n",
       "      <th>fast_charge</th>\n",
       "      <th>price_pounds</th>\n",
       "      <th>price_germany</th>\n",
       "      <th>price_netherland</th>\n",
       "    </tr>\n",
       "  </thead>\n",
       "  <tbody>\n",
       "    <tr>\n",
       "      <th>0</th>\n",
       "      <td>Renault</td>\n",
       "      <td>Megane E-Tech EV60 220hp</td>\n",
       "      <td>60.0</td>\n",
       "      <td>5</td>\n",
       "      <td>7.4</td>\n",
       "      <td>160</td>\n",
       "      <td>360</td>\n",
       "      <td>167</td>\n",
       "      <td>520</td>\n",
       "      <td>£35,000</td>\n",
       "      <td>€40,000</td>\n",
       "      <td>€40,000</td>\n",
       "    </tr>\n",
       "    <tr>\n",
       "      <th>1</th>\n",
       "      <td>Tesla</td>\n",
       "      <td>Model 3 Standard Range Plus LFP</td>\n",
       "      <td>52.5</td>\n",
       "      <td>5</td>\n",
       "      <td>5.6</td>\n",
       "      <td>225</td>\n",
       "      <td>350</td>\n",
       "      <td>150</td>\n",
       "      <td>630</td>\n",
       "      <td>40,990</td>\n",
       "      <td>43,560</td>\n",
       "      <td>49,990</td>\n",
       "    </tr>\n",
       "    <tr>\n",
       "      <th>2</th>\n",
       "      <td>Kia</td>\n",
       "      <td>EV6 GT</td>\n",
       "      <td>77.4</td>\n",
       "      <td>5</td>\n",
       "      <td>3.5</td>\n",
       "      <td>260</td>\n",
       "      <td>395</td>\n",
       "      <td>196</td>\n",
       "      <td>920</td>\n",
       "      <td>58,295</td>\n",
       "      <td>65,990</td>\n",
       "      <td>63,595</td>\n",
       "    </tr>\n",
       "    <tr>\n",
       "      <th>3</th>\n",
       "      <td>Tesla</td>\n",
       "      <td>Model Y Long Range Dual Motor</td>\n",
       "      <td>70.0</td>\n",
       "      <td>7</td>\n",
       "      <td>5.0</td>\n",
       "      <td>217</td>\n",
       "      <td>410</td>\n",
       "      <td>171</td>\n",
       "      <td>590</td>\n",
       "      <td>£54,000</td>\n",
       "      <td>59,965</td>\n",
       "      <td>65,010</td>\n",
       "    </tr>\n",
       "    <tr>\n",
       "      <th>4</th>\n",
       "      <td>Skoda</td>\n",
       "      <td>Enyaq iV 80</td>\n",
       "      <td>77.0</td>\n",
       "      <td>5</td>\n",
       "      <td>8.6</td>\n",
       "      <td>160</td>\n",
       "      <td>420</td>\n",
       "      <td>183</td>\n",
       "      <td>510</td>\n",
       "      <td>39,365</td>\n",
       "      <td>43,950</td>\n",
       "      <td>47,780</td>\n",
       "    </tr>\n",
       "  </tbody>\n",
       "</table>\n",
       "</div>"
      ],
      "text/plain": [
       "  vehicle_name                            model  battery  seats  acceleration  \\\n",
       "0      Renault         Megane E-Tech EV60 220hp     60.0      5           7.4   \n",
       "1        Tesla  Model 3 Standard Range Plus LFP     52.5      5           5.6   \n",
       "2          Kia                           EV6 GT     77.4      5           3.5   \n",
       "3        Tesla    Model Y Long Range Dual Motor     70.0      7           5.0   \n",
       "4        Skoda                      Enyaq iV 80     77.0      5           8.6   \n",
       "\n",
       "   top_speed  distance  efficiency fast_charge price_pounds price_germany  \\\n",
       "0        160       360         167         520      £35,000       €40,000   \n",
       "1        225       350         150         630       40,990        43,560   \n",
       "2        260       395         196         920       58,295        65,990   \n",
       "3        217       410         171         590      £54,000        59,965   \n",
       "4        160       420         183         510       39,365        43,950   \n",
       "\n",
       "  price_netherland  \n",
       "0          €40,000  \n",
       "1           49,990  \n",
       "2           63,595  \n",
       "3           65,010  \n",
       "4           47,780  "
      ]
     },
     "execution_count": 3,
     "metadata": {},
     "output_type": "execute_result"
    }
   ],
   "source": [
    "df.head()"
   ]
  },
  {
   "cell_type": "markdown",
   "metadata": {},
   "source": [
    "#### Data dictionary\n",
    "#vehicle_name : EV brand name\n",
    "#model : Specific car model \n",
    "#battery : Capacity of battery in kWh\n",
    "#seats : No. of seats in the car\n",
    "#acceleration : Time required to accelerate 0-100km/h in seconds\n",
    "#top_speed : Top speed of car in km/h\n",
    "#distance : Range(distance covered) in single charge of battery in km\n",
    "#efficiency : The amount of energy used to move car one unit of distance in Wh/km\n",
    "#fast_charge : No. of km added to the range during charging per hour in km/h"
   ]
  },
  {
   "cell_type": "code",
   "execution_count": 4,
   "metadata": {},
   "outputs": [
    {
     "data": {
      "text/plain": [
       "vehicle_name         object\n",
       "model                object\n",
       "battery             float64\n",
       "seats                 int64\n",
       "acceleration        float64\n",
       "top_speed             int64\n",
       "distance              int64\n",
       "efficiency            int64\n",
       "fast_charge          object\n",
       "price_pounds         object\n",
       "price_germany        object\n",
       "price_netherland     object\n",
       "dtype: object"
      ]
     },
     "execution_count": 4,
     "metadata": {},
     "output_type": "execute_result"
    }
   ],
   "source": [
    "# check the data-types\n",
    "df.dtypes"
   ]
  },
  {
   "cell_type": "code",
   "execution_count": 5,
   "metadata": {},
   "outputs": [
    {
     "data": {
      "text/plain": [
       "vehicle_name        0\n",
       "model               0\n",
       "battery             0\n",
       "seats               0\n",
       "acceleration        0\n",
       "top_speed           0\n",
       "distance            0\n",
       "efficiency          0\n",
       "fast_charge         0\n",
       "price_pounds        0\n",
       "price_germany       0\n",
       "price_netherland    0\n",
       "dtype: int64"
      ]
     },
     "execution_count": 5,
     "metadata": {},
     "output_type": "execute_result"
    }
   ],
   "source": [
    "#Check Null values\n",
    "df.isnull().sum()"
   ]
  },
  {
   "cell_type": "code",
   "execution_count": 6,
   "metadata": {},
   "outputs": [
    {
     "data": {
      "text/plain": [
       "78   fast_charge    -\n",
       "113  fast_charge    -\n",
       "125  fast_charge    -\n",
       "140  fast_charge    -\n",
       "169  fast_charge    -\n",
       "dtype: object"
      ]
     },
     "execution_count": 6,
     "metadata": {},
     "output_type": "execute_result"
    }
   ],
   "source": [
    "# Find '-' in dataset\n",
    "df[df.isin(['-'])].stack()"
   ]
  },
  {
   "cell_type": "code",
   "execution_count": 7,
   "metadata": {},
   "outputs": [],
   "source": [
    "# Replace string '-' with Null Value\n",
    "df['fast_charge']=df['fast_charge'].replace(to_replace='-', value=np.NaN)"
   ]
  },
  {
   "cell_type": "code",
   "execution_count": 8,
   "metadata": {},
   "outputs": [],
   "source": [
    "# Considering the fact that five vehicles dont have Fast Charge we will replace the string - with zero\n",
    "df['fast_charge'] = df['fast_charge'].replace(to_replace=np.nan, value=0)"
   ]
  },
  {
   "cell_type": "code",
   "execution_count": 9,
   "metadata": {},
   "outputs": [
    {
     "data": {
      "text/plain": [
       "vehicle_name         object\n",
       "model                object\n",
       "battery             float64\n",
       "seats                 int64\n",
       "acceleration        float64\n",
       "top_speed             int64\n",
       "distance              int64\n",
       "efficiency            int64\n",
       "fast_charge          object\n",
       "price_pounds         object\n",
       "price_germany        object\n",
       "price_netherland     object\n",
       "dtype: object"
      ]
     },
     "execution_count": 9,
     "metadata": {},
     "output_type": "execute_result"
    }
   ],
   "source": [
    "df.dtypes"
   ]
  },
  {
   "cell_type": "code",
   "execution_count": 10,
   "metadata": {},
   "outputs": [],
   "source": [
    "# Now convert fast-charge to Numeric type \n",
    "df = df.astype({'fast_charge': np.int})"
   ]
  },
  {
   "cell_type": "code",
   "execution_count": 11,
   "metadata": {},
   "outputs": [
    {
     "data": {
      "text/plain": [
       "0"
      ]
     },
     "execution_count": 11,
     "metadata": {},
     "output_type": "execute_result"
    }
   ],
   "source": [
    "df['fast_charge'].isnull().sum()"
   ]
  },
  {
   "cell_type": "code",
   "execution_count": 12,
   "metadata": {},
   "outputs": [
    {
     "data": {
      "text/plain": [
       "vehicle_name         object\n",
       "model                object\n",
       "battery             float64\n",
       "seats                 int64\n",
       "acceleration        float64\n",
       "top_speed             int64\n",
       "distance              int64\n",
       "efficiency            int64\n",
       "fast_charge           int32\n",
       "price_pounds         object\n",
       "price_germany        object\n",
       "price_netherland     object\n",
       "dtype: object"
      ]
     },
     "execution_count": 12,
     "metadata": {},
     "output_type": "execute_result"
    }
   ],
   "source": [
    "df.dtypes"
   ]
  },
  {
   "cell_type": "code",
   "execution_count": 13,
   "metadata": {},
   "outputs": [],
   "source": [
    "#Cleaning comma(,), curency symbols(£,€), and replacing N/A(/A) values with Null(NaN) from price_pounds.\n",
    "df['price_pounds'] = df['price_pounds'].str.replace(',', '')\n",
    "df['price_pounds'] = df['price_pounds'].str.replace('£', '')\n",
    "df['price_pounds'] = df['price_pounds'].str.replace('€', '')\n",
    "df['price_pounds'] = df['price_pounds'].str.replace('/A', '')\n",
    "df['price_pounds'] = df['price_pounds'].replace(to_replace='', value=np.NaN)"
   ]
  },
  {
   "cell_type": "code",
   "execution_count": 14,
   "metadata": {},
   "outputs": [
    {
     "data": {
      "text/plain": [
       "44"
      ]
     },
     "execution_count": 14,
     "metadata": {},
     "output_type": "execute_result"
    }
   ],
   "source": [
    "#Check its Null values\n",
    "df['price_pounds'].isnull().sum()"
   ]
  },
  {
   "cell_type": "code",
   "execution_count": 15,
   "metadata": {},
   "outputs": [
    {
     "data": {
      "text/plain": [
       "dtype('O')"
      ]
     },
     "execution_count": 15,
     "metadata": {},
     "output_type": "execute_result"
    }
   ],
   "source": [
    "#Check its dtype\n",
    "df['price_pounds'].dtype"
   ]
  },
  {
   "cell_type": "code",
   "execution_count": 16,
   "metadata": {},
   "outputs": [],
   "source": [
    "#Convert it into numeric type\n",
    "df = df.astype({'price_pounds': np.float32})"
   ]
  },
  {
   "cell_type": "code",
   "execution_count": 17,
   "metadata": {},
   "outputs": [
    {
     "data": {
      "text/plain": [
       "dtype('float32')"
      ]
     },
     "execution_count": 17,
     "metadata": {},
     "output_type": "execute_result"
    }
   ],
   "source": [
    "# Check its dtype again\n",
    "df['price_pounds'].dtype"
   ]
  },
  {
   "cell_type": "markdown",
   "metadata": {},
   "source": [
    "#### Now we do similar cleaning for price_germany and price_netherland"
   ]
  },
  {
   "cell_type": "code",
   "execution_count": 18,
   "metadata": {},
   "outputs": [],
   "source": [
    "#Cleaning comma(,), curency symbols(£,€), and replacing N/A(/A) values with Null(NaN).\n",
    "df['price_germany'] = df['price_germany'].str.replace(',', '')\n",
    "df['price_germany'] = df['price_germany'].str.replace('£', '')\n",
    "df['price_germany'] = df['price_germany'].str.replace('€', '')\n",
    "df['price_germany'] = df['price_germany'].str.replace('/A', '')\n",
    "df['price_germany'] = df['price_germany'].replace(to_replace='', value=np.NaN)\n",
    "#Converting it to Numric data-type\n",
    "df = df.astype({'price_germany': np.float32})"
   ]
  },
  {
   "cell_type": "code",
   "execution_count": 19,
   "metadata": {},
   "outputs": [],
   "source": [
    "#Cleaning comma(,), curency symbols(£,€), and replacing N/A(/A) values with Null(NaN).\n",
    "df['price_netherland'] = df['price_netherland'].str.replace(',', '')\n",
    "df['price_netherland'] = df['price_netherland'].str.replace('£', '')\n",
    "df['price_netherland'] = df['price_netherland'].str.replace('€', '')\n",
    "df['price_netherland'] = df['price_netherland'].str.replace('/A', '')\n",
    "df['price_netherland'] = df['price_netherland'].replace(to_replace='', value=np.NaN)\n",
    "#Converting it to Numric data-type\n",
    "df = df.astype({'price_netherland': np.float32})"
   ]
  },
  {
   "cell_type": "code",
   "execution_count": 20,
   "metadata": {},
   "outputs": [
    {
     "data": {
      "text/plain": [
       "vehicle_name         object\n",
       "model                object\n",
       "battery             float64\n",
       "seats                 int64\n",
       "acceleration        float64\n",
       "top_speed             int64\n",
       "distance              int64\n",
       "efficiency            int64\n",
       "fast_charge           int32\n",
       "price_pounds        float32\n",
       "price_germany       float32\n",
       "price_netherland    float32\n",
       "dtype: object"
      ]
     },
     "execution_count": 20,
     "metadata": {},
     "output_type": "execute_result"
    }
   ],
   "source": [
    "#Check overall data-type\n",
    "df.dtypes"
   ]
  },
  {
   "cell_type": "code",
   "execution_count": 21,
   "metadata": {},
   "outputs": [
    {
     "data": {
      "text/plain": [
       "vehicle_name         0\n",
       "model                0\n",
       "battery              0\n",
       "seats                0\n",
       "acceleration         0\n",
       "top_speed            0\n",
       "distance             0\n",
       "efficiency           0\n",
       "fast_charge          0\n",
       "price_pounds        44\n",
       "price_germany       13\n",
       "price_netherland    25\n",
       "dtype: int64"
      ]
     },
     "execution_count": 21,
     "metadata": {},
     "output_type": "execute_result"
    }
   ],
   "source": [
    "#Check overall Null values\n",
    "df.isnull().sum()"
   ]
  },
  {
   "cell_type": "markdown",
   "metadata": {},
   "source": [
    "#### The three price columns have Null values, and price_germany has least Null Values. It is suggested that instead of keeping prices in three different currencies, we can convert the price to universal currency USD value."
   ]
  },
  {
   "cell_type": "markdown",
   "metadata": {},
   "source": [
    "## Considerations before replacing Null values"
   ]
  },
  {
   "cell_type": "code",
   "execution_count": 22,
   "metadata": {},
   "outputs": [
    {
     "data": {
      "image/png": "[encoded data removed]",
      "text/plain": [
       "<Figure size 576x432 with 1 Axes>"
      ]
     },
     "metadata": {
      "needs_background": "light"
     },
     "output_type": "display_data"
    }
   ],
   "source": [
    "#Comparing price in germany and netherland\n",
    "plt.figure(figsize=(8,6))\n",
    "sns.kdeplot(df['price_germany'], color='orange', label='price germany')\n",
    "sns.kdeplot(df['price_netherland'], color='red', label='price netherland')\n",
    "plt.title('KDE plot of price in Germany and Netherland')\n",
    "plt.legend(loc='upper right', fontsize=14)\n",
    "plt.show()"
   ]
  },
  {
   "cell_type": "code",
   "execution_count": 23,
   "metadata": {},
   "outputs": [
    {
     "data": {
      "image/png": "[encoded data removed]",
      "text/plain": [
       "<Figure size 576x432 with 1 Axes>"
      ]
     },
     "metadata": {
      "needs_background": "light"
     },
     "output_type": "display_data"
    }
   ],
   "source": [
    "#Comparing price in germany and UK(pounds)\n",
    "plt.figure(figsize=(8,6))\n",
    "sns.kdeplot(df['price_germany'], color='orange', label='price germany')\n",
    "sns.kdeplot(df['price_pounds'], color='green', label='price UK')\n",
    "plt.title('KDE plot of price in Germany and UK')\n",
    "plt.legend(loc='upper right', fontsize=14)\n",
    "plt.show()"
   ]
  },
  {
   "cell_type": "code",
   "execution_count": 24,
   "metadata": {},
   "outputs": [
    {
     "data": {
      "image/png": "[encoded data removed]",
      "text/plain": [
       "<Figure size 432x288 with 2 Axes>"
      ]
     },
     "metadata": {
      "needs_background": "light"
     },
     "output_type": "display_data"
    }
   ],
   "source": [
    "## Correlation in prices at Germany, Netherland, UK\n",
    "pricing = df[['price_germany','price_netherland','price_pounds']]\n",
    "pricing_corr = pricing.corr()\n",
    "plt.figure(figsize=(6,4))\n",
    "plt.title('Correlation in Prices')\n",
    "sns.heatmap(pricing_corr, annot=True)\n",
    "plt.show()"
   ]
  },
  {
   "cell_type": "markdown",
   "metadata": {},
   "source": [
    "#### As the prices in three regions are correlated, hence we will fill German price Null values using prices available in UK(pounds to be converted to Euro) or Netherland(Euro) for the same car."
   ]
  },
  {
   "cell_type": "code",
   "execution_count": 25,
   "metadata": {},
   "outputs": [
    {
     "name": "stderr",
     "output_type": "stream",
     "text": [
      "<ipython-input-25-faf00be62bd2>:5: SettingWithCopyWarning: \n",
      "A value is trying to be set on a copy of a slice from a DataFrame\n",
      "\n",
      "See the caveats in the documentation: https://pandas.pydata.org/pandas-docs/stable/user_guide/indexing.html#returning-a-view-versus-a-copy\n",
      "  df['price_germany'][i] = round(df['price_pounds'][i]/1.17)\n",
      "<ipython-input-25-faf00be62bd2>:7: SettingWithCopyWarning: \n",
      "A value is trying to be set on a copy of a slice from a DataFrame\n",
      "\n",
      "See the caveats in the documentation: https://pandas.pydata.org/pandas-docs/stable/user_guide/indexing.html#returning-a-view-versus-a-copy\n",
      "  df['price_germany'][i]= round(df['price_netherland'][i])\n"
     ]
    },
    {
     "data": {
      "text/plain": [
       "vehicle_name         0\n",
       "model                0\n",
       "battery              0\n",
       "seats                0\n",
       "acceleration         0\n",
       "top_speed            0\n",
       "distance             0\n",
       "efficiency           0\n",
       "fast_charge          0\n",
       "price_pounds        44\n",
       "price_germany        0\n",
       "price_netherland    25\n",
       "dtype: int64"
      ]
     },
     "execution_count": 25,
     "metadata": {},
     "output_type": "execute_result"
    }
   ],
   "source": [
    "## Filling Null Values in germany using pounds and netherland\n",
    "for i in range(len(df)):\n",
    "    if (df.isna()['price_germany'][i]):\n",
    "        if (df['price_pounds'][i]!=0) and (not df.isna()['price_pounds'][i]):\n",
    "            df['price_germany'][i] = round(df['price_pounds'][i]/1.17)\n",
    "        elif (df['price_netherland'][i]!=0) and (not df.isna()['price_netherland'][i]):\n",
    "             df['price_germany'][i]= round(df['price_netherland'][i])\n",
    "    \n",
    "df.isnull().sum()"
   ]
  },
  {
   "cell_type": "code",
   "execution_count": 26,
   "metadata": {},
   "outputs": [
    {
     "data": {
      "text/plain": [
       "vehicle_name         object\n",
       "model                object\n",
       "battery             float64\n",
       "seats                 int64\n",
       "acceleration        float64\n",
       "top_speed             int64\n",
       "distance              int64\n",
       "efficiency            int64\n",
       "fast_charge           int32\n",
       "price_pounds        float32\n",
       "price_germany       float32\n",
       "price_netherland    float32\n",
       "dtype: object"
      ]
     },
     "execution_count": 26,
     "metadata": {},
     "output_type": "execute_result"
    }
   ],
   "source": [
    "df.dtypes"
   ]
  },
  {
   "cell_type": "code",
   "execution_count": 27,
   "metadata": {},
   "outputs": [],
   "source": [
    "#### Now we use price_germany to get prices in USD\n",
    "df['price_usd'] = round((df['price_germany']/1.18))"
   ]
  },
  {
   "cell_type": "code",
   "execution_count": 28,
   "metadata": {},
   "outputs": [
    {
     "data": {
      "text/html": [
       "<div>\n",
       "<style scoped>\n",
       "    .dataframe tbody tr th:only-of-type {\n",
       "        vertical-align: middle;\n",
       "    }\n",
       "\n",
       "    .dataframe tbody tr th {\n",
       "        vertical-align: top;\n",
       "    }\n",
       "\n",
       "    .dataframe thead th {\n",
       "        text-align: right;\n",
       "    }\n",
       "</style>\n",
       "<table border=\"1\" class=\"dataframe\">\n",
       "  <thead>\n",
       "    <tr style=\"text-align: right;\">\n",
       "      <th></th>\n",
       "      <th>vehicle_name</th>\n",
       "      <th>model</th>\n",
       "      <th>battery</th>\n",
       "      <th>seats</th>\n",
       "      <th>acceleration</th>\n",
       "      <th>top_speed</th>\n",
       "      <th>distance</th>\n",
       "      <th>efficiency</th>\n",
       "      <th>fast_charge</th>\n",
       "      <th>price_pounds</th>\n",
       "      <th>price_germany</th>\n",
       "      <th>price_netherland</th>\n",
       "      <th>price_usd</th>\n",
       "    </tr>\n",
       "  </thead>\n",
       "  <tbody>\n",
       "    <tr>\n",
       "      <th>0</th>\n",
       "      <td>Renault</td>\n",
       "      <td>Megane E-Tech EV60 220hp</td>\n",
       "      <td>60.0</td>\n",
       "      <td>5</td>\n",
       "      <td>7.4</td>\n",
       "      <td>160</td>\n",
       "      <td>360</td>\n",
       "      <td>167</td>\n",
       "      <td>520</td>\n",
       "      <td>35000.0</td>\n",
       "      <td>40000.0</td>\n",
       "      <td>40000.0</td>\n",
       "      <td>33898.0</td>\n",
       "    </tr>\n",
       "    <tr>\n",
       "      <th>1</th>\n",
       "      <td>Tesla</td>\n",
       "      <td>Model 3 Standard Range Plus LFP</td>\n",
       "      <td>52.5</td>\n",
       "      <td>5</td>\n",
       "      <td>5.6</td>\n",
       "      <td>225</td>\n",
       "      <td>350</td>\n",
       "      <td>150</td>\n",
       "      <td>630</td>\n",
       "      <td>40990.0</td>\n",
       "      <td>43560.0</td>\n",
       "      <td>49990.0</td>\n",
       "      <td>36915.0</td>\n",
       "    </tr>\n",
       "    <tr>\n",
       "      <th>2</th>\n",
       "      <td>Kia</td>\n",
       "      <td>EV6 GT</td>\n",
       "      <td>77.4</td>\n",
       "      <td>5</td>\n",
       "      <td>3.5</td>\n",
       "      <td>260</td>\n",
       "      <td>395</td>\n",
       "      <td>196</td>\n",
       "      <td>920</td>\n",
       "      <td>58295.0</td>\n",
       "      <td>65990.0</td>\n",
       "      <td>63595.0</td>\n",
       "      <td>55924.0</td>\n",
       "    </tr>\n",
       "    <tr>\n",
       "      <th>3</th>\n",
       "      <td>Tesla</td>\n",
       "      <td>Model Y Long Range Dual Motor</td>\n",
       "      <td>70.0</td>\n",
       "      <td>7</td>\n",
       "      <td>5.0</td>\n",
       "      <td>217</td>\n",
       "      <td>410</td>\n",
       "      <td>171</td>\n",
       "      <td>590</td>\n",
       "      <td>54000.0</td>\n",
       "      <td>59965.0</td>\n",
       "      <td>65010.0</td>\n",
       "      <td>50818.0</td>\n",
       "    </tr>\n",
       "    <tr>\n",
       "      <th>4</th>\n",
       "      <td>Skoda</td>\n",
       "      <td>Enyaq iV 80</td>\n",
       "      <td>77.0</td>\n",
       "      <td>5</td>\n",
       "      <td>8.6</td>\n",
       "      <td>160</td>\n",
       "      <td>420</td>\n",
       "      <td>183</td>\n",
       "      <td>510</td>\n",
       "      <td>39365.0</td>\n",
       "      <td>43950.0</td>\n",
       "      <td>47780.0</td>\n",
       "      <td>37246.0</td>\n",
       "    </tr>\n",
       "  </tbody>\n",
       "</table>\n",
       "</div>"
      ],
      "text/plain": [
       "  vehicle_name                            model  battery  seats  acceleration  \\\n",
       "0      Renault         Megane E-Tech EV60 220hp     60.0      5           7.4   \n",
       "1        Tesla  Model 3 Standard Range Plus LFP     52.5      5           5.6   \n",
       "2          Kia                           EV6 GT     77.4      5           3.5   \n",
       "3        Tesla    Model Y Long Range Dual Motor     70.0      7           5.0   \n",
       "4        Skoda                      Enyaq iV 80     77.0      5           8.6   \n",
       "\n",
       "   top_speed  distance  efficiency  fast_charge  price_pounds  price_germany  \\\n",
       "0        160       360         167          520       35000.0        40000.0   \n",
       "1        225       350         150          630       40990.0        43560.0   \n",
       "2        260       395         196          920       58295.0        65990.0   \n",
       "3        217       410         171          590       54000.0        59965.0   \n",
       "4        160       420         183          510       39365.0        43950.0   \n",
       "\n",
       "   price_netherland  price_usd  \n",
       "0           40000.0    33898.0  \n",
       "1           49990.0    36915.0  \n",
       "2           63595.0    55924.0  \n",
       "3           65010.0    50818.0  \n",
       "4           47780.0    37246.0  "
      ]
     },
     "execution_count": 28,
     "metadata": {},
     "output_type": "execute_result"
    }
   ],
   "source": [
    "df.head()"
   ]
  },
  {
   "cell_type": "code",
   "execution_count": 29,
   "metadata": {},
   "outputs": [
    {
     "data": {
      "text/plain": [
       "vehicle_name         0\n",
       "model                0\n",
       "battery              0\n",
       "seats                0\n",
       "acceleration         0\n",
       "top_speed            0\n",
       "distance             0\n",
       "efficiency           0\n",
       "fast_charge          0\n",
       "price_pounds        44\n",
       "price_germany        0\n",
       "price_netherland    25\n",
       "price_usd            0\n",
       "dtype: int64"
      ]
     },
     "execution_count": 29,
     "metadata": {},
     "output_type": "execute_result"
    }
   ],
   "source": [
    "df.isnull().sum()"
   ]
  },
  {
   "cell_type": "code",
   "execution_count": 30,
   "metadata": {},
   "outputs": [
    {
     "data": {
      "text/plain": [
       "vehicle_name         object\n",
       "model                object\n",
       "battery             float64\n",
       "seats                 int64\n",
       "acceleration        float64\n",
       "top_speed             int64\n",
       "distance              int64\n",
       "efficiency            int64\n",
       "fast_charge           int32\n",
       "price_pounds        float32\n",
       "price_germany       float32\n",
       "price_netherland    float32\n",
       "price_usd           float32\n",
       "dtype: object"
      ]
     },
     "execution_count": 30,
     "metadata": {},
     "output_type": "execute_result"
    }
   ],
   "source": [
    "df.dtypes"
   ]
  },
  {
   "cell_type": "code",
   "execution_count": 31,
   "metadata": {},
   "outputs": [],
   "source": [
    "#Save a clean copy of data after treating Null values wherever necessary\n",
    "df.to_csv('D:\\People\\Amit\\Hamoye\\project\\\\electric_cars_13sep.csv')"
   ]
  },
  {
   "cell_type": "markdown",
   "metadata": {},
   "source": [
    "## Insights from Data"
   ]
  },
  {
   "cell_type": "markdown",
   "metadata": {},
   "source": [
    "## Top 5 Costliest EV Brands as per Average price value ($ USD) of their Models."
   ]
  },
  {
   "cell_type": "code",
   "execution_count": 32,
   "metadata": {},
   "outputs": [
    {
     "data": {
      "image/png": "[encoded data removed]",
      "text/plain": [
       "<Figure size 432x288 with 1 Axes>"
      ]
     },
     "metadata": {
      "needs_background": "light"
     },
     "output_type": "display_data"
    }
   ],
   "source": [
    "df.groupby('vehicle_name')['price_usd'].mean().sort_values(ascending=False).head().plot(x='vehicle_name',marker='+',markersize=6)\n",
    "plt.show()"
   ]
  },
  {
   "cell_type": "markdown",
   "metadata": {},
   "source": [
    "## Top 5 EV Brands with maximum no. of Models/Variants."
   ]
  },
  {
   "cell_type": "code",
   "execution_count": 33,
   "metadata": {},
   "outputs": [
    {
     "data": {
      "image/png": "[encoded data removed]",
      "text/plain": [
       "<Figure size 432x288 with 1 Axes>"
      ]
     },
     "metadata": {
      "needs_background": "light"
     },
     "output_type": "display_data"
    }
   ],
   "source": [
    "df['vehicle_name'].value_counts().sort_values(ascending=True).tail(5).plot(kind='barh',color='g')\n",
    "plt.show()"
   ]
  },
  {
   "cell_type": "markdown",
   "metadata": {},
   "source": [
    "## Top 5 Models with Highest speed (km/h)"
   ]
  },
  {
   "cell_type": "code",
   "execution_count": 34,
   "metadata": {},
   "outputs": [
    {
     "data": {
      "image/png": "[encoded data removed]",
      "text/plain": [
       "<Figure size 432x288 with 1 Axes>"
      ]
     },
     "metadata": {
      "needs_background": "light"
     },
     "output_type": "display_data"
    }
   ],
   "source": [
    "df1 = df[['vehicle_name','model','top_speed']]\n",
    "df1.sort_values('top_speed',ascending=False).head().plot(x='model',kind='bar',color='magenta')\n",
    "plt.show()"
   ]
  },
  {
   "cell_type": "markdown",
   "metadata": {},
   "source": [
    "## Top 5 Cars with highest Battery back-up (kWh)"
   ]
  },
  {
   "cell_type": "code",
   "execution_count": 35,
   "metadata": {},
   "outputs": [
    {
     "data": {
      "image/png": "[encoded data removed]",
      "text/plain": [
       "<Figure size 432x288 with 1 Axes>"
      ]
     },
     "metadata": {
      "needs_background": "light"
     },
     "output_type": "display_data"
    }
   ],
   "source": [
    "df2 = df[['vehicle_name','model','battery']]\n",
    "df2.sort_values('battery',ascending=False).head().plot(x='model',kind='bar', color='orange')\n",
    "plt.show()"
   ]
  },
  {
   "cell_type": "markdown",
   "metadata": {},
   "source": [
    "## Correlation among EV features"
   ]
  },
  {
   "cell_type": "code",
   "execution_count": 36,
   "metadata": {},
   "outputs": [
    {
     "data": {
      "image/png": "[encoded data removed]",
      "text/plain": [
       "<Figure size 576x432 with 2 Axes>"
      ]
     },
     "metadata": {
      "needs_background": "light"
     },
     "output_type": "display_data"
    }
   ],
   "source": [
    "features1 = df[['battery', 'seats', 'acceleration', 'top_speed', 'distance', 'efficiency', 'fast_charge', 'price_usd']]\n",
    "corr = features1.corr()\n",
    "plt.figure(figsize=(8,6))\n",
    "sns.heatmap(corr, annot=True)\n",
    "plt.show()"
   ]
  },
  {
   "cell_type": "markdown",
   "metadata": {},
   "source": [
    "## Categorical Variables Encoding"
   ]
  },
  {
   "cell_type": "code",
   "execution_count": 37,
   "metadata": {},
   "outputs": [],
   "source": [
    "## Replacing categorical variable Vehicle brand name to numerical values using One Hot Encoding\n",
    "df_encoded = pd.get_dummies(df, columns=['vehicle_name'])"
   ]
  },
  {
   "cell_type": "code",
   "execution_count": 38,
   "metadata": {},
   "outputs": [
    {
     "data": {
      "text/html": [
       "<div>\n",
       "<style scoped>\n",
       "    .dataframe tbody tr th:only-of-type {\n",
       "        vertical-align: middle;\n",
       "    }\n",
       "\n",
       "    .dataframe tbody tr th {\n",
       "        vertical-align: top;\n",
       "    }\n",
       "\n",
       "    .dataframe thead th {\n",
       "        text-align: right;\n",
       "    }\n",
       "</style>\n",
       "<table border=\"1\" class=\"dataframe\">\n",
       "  <thead>\n",
       "    <tr style=\"text-align: right;\">\n",
       "      <th></th>\n",
       "      <th>model</th>\n",
       "      <th>battery</th>\n",
       "      <th>seats</th>\n",
       "      <th>acceleration</th>\n",
       "      <th>top_speed</th>\n",
       "      <th>distance</th>\n",
       "      <th>efficiency</th>\n",
       "      <th>fast_charge</th>\n",
       "      <th>price_pounds</th>\n",
       "      <th>price_germany</th>\n",
       "      <th>...</th>\n",
       "      <th>vehicle_name_Renault</th>\n",
       "      <th>vehicle_name_SEAT</th>\n",
       "      <th>vehicle_name_Seres</th>\n",
       "      <th>vehicle_name_Skoda</th>\n",
       "      <th>vehicle_name_Smart</th>\n",
       "      <th>vehicle_name_Sono</th>\n",
       "      <th>vehicle_name_Tesla</th>\n",
       "      <th>vehicle_name_Toyota</th>\n",
       "      <th>vehicle_name_Volkswagen</th>\n",
       "      <th>vehicle_name_Volvo</th>\n",
       "    </tr>\n",
       "  </thead>\n",
       "  <tbody>\n",
       "    <tr>\n",
       "      <th>0</th>\n",
       "      <td>Megane E-Tech EV60 220hp</td>\n",
       "      <td>60.0</td>\n",
       "      <td>5</td>\n",
       "      <td>7.4</td>\n",
       "      <td>160</td>\n",
       "      <td>360</td>\n",
       "      <td>167</td>\n",
       "      <td>520</td>\n",
       "      <td>35000.0</td>\n",
       "      <td>40000.0</td>\n",
       "      <td>...</td>\n",
       "      <td>1</td>\n",
       "      <td>0</td>\n",
       "      <td>0</td>\n",
       "      <td>0</td>\n",
       "      <td>0</td>\n",
       "      <td>0</td>\n",
       "      <td>0</td>\n",
       "      <td>0</td>\n",
       "      <td>0</td>\n",
       "      <td>0</td>\n",
       "    </tr>\n",
       "    <tr>\n",
       "      <th>1</th>\n",
       "      <td>Model 3 Standard Range Plus LFP</td>\n",
       "      <td>52.5</td>\n",
       "      <td>5</td>\n",
       "      <td>5.6</td>\n",
       "      <td>225</td>\n",
       "      <td>350</td>\n",
       "      <td>150</td>\n",
       "      <td>630</td>\n",
       "      <td>40990.0</td>\n",
       "      <td>43560.0</td>\n",
       "      <td>...</td>\n",
       "      <td>0</td>\n",
       "      <td>0</td>\n",
       "      <td>0</td>\n",
       "      <td>0</td>\n",
       "      <td>0</td>\n",
       "      <td>0</td>\n",
       "      <td>1</td>\n",
       "      <td>0</td>\n",
       "      <td>0</td>\n",
       "      <td>0</td>\n",
       "    </tr>\n",
       "    <tr>\n",
       "      <th>2</th>\n",
       "      <td>EV6 GT</td>\n",
       "      <td>77.4</td>\n",
       "      <td>5</td>\n",
       "      <td>3.5</td>\n",
       "      <td>260</td>\n",
       "      <td>395</td>\n",
       "      <td>196</td>\n",
       "      <td>920</td>\n",
       "      <td>58295.0</td>\n",
       "      <td>65990.0</td>\n",
       "      <td>...</td>\n",
       "      <td>0</td>\n",
       "      <td>0</td>\n",
       "      <td>0</td>\n",
       "      <td>0</td>\n",
       "      <td>0</td>\n",
       "      <td>0</td>\n",
       "      <td>0</td>\n",
       "      <td>0</td>\n",
       "      <td>0</td>\n",
       "      <td>0</td>\n",
       "    </tr>\n",
       "    <tr>\n",
       "      <th>3</th>\n",
       "      <td>Model Y Long Range Dual Motor</td>\n",
       "      <td>70.0</td>\n",
       "      <td>7</td>\n",
       "      <td>5.0</td>\n",
       "      <td>217</td>\n",
       "      <td>410</td>\n",
       "      <td>171</td>\n",
       "      <td>590</td>\n",
       "      <td>54000.0</td>\n",
       "      <td>59965.0</td>\n",
       "      <td>...</td>\n",
       "      <td>0</td>\n",
       "      <td>0</td>\n",
       "      <td>0</td>\n",
       "      <td>0</td>\n",
       "      <td>0</td>\n",
       "      <td>0</td>\n",
       "      <td>1</td>\n",
       "      <td>0</td>\n",
       "      <td>0</td>\n",
       "      <td>0</td>\n",
       "    </tr>\n",
       "    <tr>\n",
       "      <th>4</th>\n",
       "      <td>Enyaq iV 80</td>\n",
       "      <td>77.0</td>\n",
       "      <td>5</td>\n",
       "      <td>8.6</td>\n",
       "      <td>160</td>\n",
       "      <td>420</td>\n",
       "      <td>183</td>\n",
       "      <td>510</td>\n",
       "      <td>39365.0</td>\n",
       "      <td>43950.0</td>\n",
       "      <td>...</td>\n",
       "      <td>0</td>\n",
       "      <td>0</td>\n",
       "      <td>0</td>\n",
       "      <td>1</td>\n",
       "      <td>0</td>\n",
       "      <td>0</td>\n",
       "      <td>0</td>\n",
       "      <td>0</td>\n",
       "      <td>0</td>\n",
       "      <td>0</td>\n",
       "    </tr>\n",
       "  </tbody>\n",
       "</table>\n",
       "<p>5 rows × 49 columns</p>\n",
       "</div>"
      ],
      "text/plain": [
       "                             model  battery  seats  acceleration  top_speed  \\\n",
       "0         Megane E-Tech EV60 220hp     60.0      5           7.4        160   \n",
       "1  Model 3 Standard Range Plus LFP     52.5      5           5.6        225   \n",
       "2                           EV6 GT     77.4      5           3.5        260   \n",
       "3    Model Y Long Range Dual Motor     70.0      7           5.0        217   \n",
       "4                      Enyaq iV 80     77.0      5           8.6        160   \n",
       "\n",
       "   distance  efficiency  fast_charge  price_pounds  price_germany  ...  \\\n",
       "0       360         167          520       35000.0        40000.0  ...   \n",
       "1       350         150          630       40990.0        43560.0  ...   \n",
       "2       395         196          920       58295.0        65990.0  ...   \n",
       "3       410         171          590       54000.0        59965.0  ...   \n",
       "4       420         183          510       39365.0        43950.0  ...   \n",
       "\n",
       "   vehicle_name_Renault  vehicle_name_SEAT  vehicle_name_Seres  \\\n",
       "0                     1                  0                   0   \n",
       "1                     0                  0                   0   \n",
       "2                     0                  0                   0   \n",
       "3                     0                  0                   0   \n",
       "4                     0                  0                   0   \n",
       "\n",
       "   vehicle_name_Skoda  vehicle_name_Smart  vehicle_name_Sono  \\\n",
       "0                   0                   0                  0   \n",
       "1                   0                   0                  0   \n",
       "2                   0                   0                  0   \n",
       "3                   0                   0                  0   \n",
       "4                   1                   0                  0   \n",
       "\n",
       "   vehicle_name_Tesla  vehicle_name_Toyota  vehicle_name_Volkswagen  \\\n",
       "0                   0                    0                        0   \n",
       "1                   1                    0                        0   \n",
       "2                   0                    0                        0   \n",
       "3                   1                    0                        0   \n",
       "4                   0                    0                        0   \n",
       "\n",
       "   vehicle_name_Volvo  \n",
       "0                   0  \n",
       "1                   0  \n",
       "2                   0  \n",
       "3                   0  \n",
       "4                   0  \n",
       "\n",
       "[5 rows x 49 columns]"
      ]
     },
     "execution_count": 38,
     "metadata": {},
     "output_type": "execute_result"
    }
   ],
   "source": [
    "df_encoded.head()"
   ]
  },
  {
   "cell_type": "markdown",
   "metadata": {},
   "source": [
    "## Features and Target"
   ]
  },
  {
   "cell_type": "code",
   "execution_count": 39,
   "metadata": {},
   "outputs": [],
   "source": [
    "# In this version we decided to drop Seats and use vehicle names with coding using pd.get_dummies in Features\n",
    "features = df_encoded.drop(['model','seats','price_pounds','price_germany','price_netherland','price_usd'],axis=1)\n",
    "y = df['price_usd']"
   ]
  },
  {
   "cell_type": "code",
   "execution_count": 40,
   "metadata": {},
   "outputs": [
    {
     "data": {
      "text/html": [
       "<div>\n",
       "<style scoped>\n",
       "    .dataframe tbody tr th:only-of-type {\n",
       "        vertical-align: middle;\n",
       "    }\n",
       "\n",
       "    .dataframe tbody tr th {\n",
       "        vertical-align: top;\n",
       "    }\n",
       "\n",
       "    .dataframe thead th {\n",
       "        text-align: right;\n",
       "    }\n",
       "</style>\n",
       "<table border=\"1\" class=\"dataframe\">\n",
       "  <thead>\n",
       "    <tr style=\"text-align: right;\">\n",
       "      <th></th>\n",
       "      <th>battery</th>\n",
       "      <th>acceleration</th>\n",
       "      <th>top_speed</th>\n",
       "      <th>distance</th>\n",
       "      <th>efficiency</th>\n",
       "      <th>fast_charge</th>\n",
       "      <th>vehicle_name_Aiways</th>\n",
       "      <th>vehicle_name_Audi</th>\n",
       "      <th>vehicle_name_BMW</th>\n",
       "      <th>vehicle_name_Byton</th>\n",
       "      <th>...</th>\n",
       "      <th>vehicle_name_Renault</th>\n",
       "      <th>vehicle_name_SEAT</th>\n",
       "      <th>vehicle_name_Seres</th>\n",
       "      <th>vehicle_name_Skoda</th>\n",
       "      <th>vehicle_name_Smart</th>\n",
       "      <th>vehicle_name_Sono</th>\n",
       "      <th>vehicle_name_Tesla</th>\n",
       "      <th>vehicle_name_Toyota</th>\n",
       "      <th>vehicle_name_Volkswagen</th>\n",
       "      <th>vehicle_name_Volvo</th>\n",
       "    </tr>\n",
       "  </thead>\n",
       "  <tbody>\n",
       "    <tr>\n",
       "      <th>0</th>\n",
       "      <td>60.0</td>\n",
       "      <td>7.4</td>\n",
       "      <td>160</td>\n",
       "      <td>360</td>\n",
       "      <td>167</td>\n",
       "      <td>520</td>\n",
       "      <td>0</td>\n",
       "      <td>0</td>\n",
       "      <td>0</td>\n",
       "      <td>0</td>\n",
       "      <td>...</td>\n",
       "      <td>1</td>\n",
       "      <td>0</td>\n",
       "      <td>0</td>\n",
       "      <td>0</td>\n",
       "      <td>0</td>\n",
       "      <td>0</td>\n",
       "      <td>0</td>\n",
       "      <td>0</td>\n",
       "      <td>0</td>\n",
       "      <td>0</td>\n",
       "    </tr>\n",
       "    <tr>\n",
       "      <th>1</th>\n",
       "      <td>52.5</td>\n",
       "      <td>5.6</td>\n",
       "      <td>225</td>\n",
       "      <td>350</td>\n",
       "      <td>150</td>\n",
       "      <td>630</td>\n",
       "      <td>0</td>\n",
       "      <td>0</td>\n",
       "      <td>0</td>\n",
       "      <td>0</td>\n",
       "      <td>...</td>\n",
       "      <td>0</td>\n",
       "      <td>0</td>\n",
       "      <td>0</td>\n",
       "      <td>0</td>\n",
       "      <td>0</td>\n",
       "      <td>0</td>\n",
       "      <td>1</td>\n",
       "      <td>0</td>\n",
       "      <td>0</td>\n",
       "      <td>0</td>\n",
       "    </tr>\n",
       "    <tr>\n",
       "      <th>2</th>\n",
       "      <td>77.4</td>\n",
       "      <td>3.5</td>\n",
       "      <td>260</td>\n",
       "      <td>395</td>\n",
       "      <td>196</td>\n",
       "      <td>920</td>\n",
       "      <td>0</td>\n",
       "      <td>0</td>\n",
       "      <td>0</td>\n",
       "      <td>0</td>\n",
       "      <td>...</td>\n",
       "      <td>0</td>\n",
       "      <td>0</td>\n",
       "      <td>0</td>\n",
       "      <td>0</td>\n",
       "      <td>0</td>\n",
       "      <td>0</td>\n",
       "      <td>0</td>\n",
       "      <td>0</td>\n",
       "      <td>0</td>\n",
       "      <td>0</td>\n",
       "    </tr>\n",
       "    <tr>\n",
       "      <th>3</th>\n",
       "      <td>70.0</td>\n",
       "      <td>5.0</td>\n",
       "      <td>217</td>\n",
       "      <td>410</td>\n",
       "      <td>171</td>\n",
       "      <td>590</td>\n",
       "      <td>0</td>\n",
       "      <td>0</td>\n",
       "      <td>0</td>\n",
       "      <td>0</td>\n",
       "      <td>...</td>\n",
       "      <td>0</td>\n",
       "      <td>0</td>\n",
       "      <td>0</td>\n",
       "      <td>0</td>\n",
       "      <td>0</td>\n",
       "      <td>0</td>\n",
       "      <td>1</td>\n",
       "      <td>0</td>\n",
       "      <td>0</td>\n",
       "      <td>0</td>\n",
       "    </tr>\n",
       "    <tr>\n",
       "      <th>4</th>\n",
       "      <td>77.0</td>\n",
       "      <td>8.6</td>\n",
       "      <td>160</td>\n",
       "      <td>420</td>\n",
       "      <td>183</td>\n",
       "      <td>510</td>\n",
       "      <td>0</td>\n",
       "      <td>0</td>\n",
       "      <td>0</td>\n",
       "      <td>0</td>\n",
       "      <td>...</td>\n",
       "      <td>0</td>\n",
       "      <td>0</td>\n",
       "      <td>0</td>\n",
       "      <td>1</td>\n",
       "      <td>0</td>\n",
       "      <td>0</td>\n",
       "      <td>0</td>\n",
       "      <td>0</td>\n",
       "      <td>0</td>\n",
       "      <td>0</td>\n",
       "    </tr>\n",
       "  </tbody>\n",
       "</table>\n",
       "<p>5 rows × 43 columns</p>\n",
       "</div>"
      ],
      "text/plain": [
       "   battery  acceleration  top_speed  distance  efficiency  fast_charge  \\\n",
       "0     60.0           7.4        160       360         167          520   \n",
       "1     52.5           5.6        225       350         150          630   \n",
       "2     77.4           3.5        260       395         196          920   \n",
       "3     70.0           5.0        217       410         171          590   \n",
       "4     77.0           8.6        160       420         183          510   \n",
       "\n",
       "   vehicle_name_Aiways  vehicle_name_Audi  vehicle_name_BMW  \\\n",
       "0                    0                  0                 0   \n",
       "1                    0                  0                 0   \n",
       "2                    0                  0                 0   \n",
       "3                    0                  0                 0   \n",
       "4                    0                  0                 0   \n",
       "\n",
       "   vehicle_name_Byton  ...  vehicle_name_Renault  vehicle_name_SEAT  \\\n",
       "0                   0  ...                     1                  0   \n",
       "1                   0  ...                     0                  0   \n",
       "2                   0  ...                     0                  0   \n",
       "3                   0  ...                     0                  0   \n",
       "4                   0  ...                     0                  0   \n",
       "\n",
       "   vehicle_name_Seres  vehicle_name_Skoda  vehicle_name_Smart  \\\n",
       "0                   0                   0                   0   \n",
       "1                   0                   0                   0   \n",
       "2                   0                   0                   0   \n",
       "3                   0                   0                   0   \n",
       "4                   0                   1                   0   \n",
       "\n",
       "   vehicle_name_Sono  vehicle_name_Tesla  vehicle_name_Toyota  \\\n",
       "0                  0                   0                    0   \n",
       "1                  0                   1                    0   \n",
       "2                  0                   0                    0   \n",
       "3                  0                   1                    0   \n",
       "4                  0                   0                    0   \n",
       "\n",
       "   vehicle_name_Volkswagen  vehicle_name_Volvo  \n",
       "0                        0                   0  \n",
       "1                        0                   0  \n",
       "2                        0                   0  \n",
       "3                        0                   0  \n",
       "4                        0                   0  \n",
       "\n",
       "[5 rows x 43 columns]"
      ]
     },
     "execution_count": 40,
     "metadata": {},
     "output_type": "execute_result"
    }
   ],
   "source": [
    "features.head()"
   ]
  },
  {
   "cell_type": "code",
   "execution_count": 41,
   "metadata": {},
   "outputs": [
    {
     "data": {
      "text/html": [
       "<div>\n",
       "<style scoped>\n",
       "    .dataframe tbody tr th:only-of-type {\n",
       "        vertical-align: middle;\n",
       "    }\n",
       "\n",
       "    .dataframe tbody tr th {\n",
       "        vertical-align: top;\n",
       "    }\n",
       "\n",
       "    .dataframe thead th {\n",
       "        text-align: right;\n",
       "    }\n",
       "</style>\n",
       "<table border=\"1\" class=\"dataframe\">\n",
       "  <thead>\n",
       "    <tr style=\"text-align: right;\">\n",
       "      <th></th>\n",
       "      <th>battery</th>\n",
       "      <th>acceleration</th>\n",
       "      <th>top_speed</th>\n",
       "      <th>distance</th>\n",
       "      <th>efficiency</th>\n",
       "      <th>fast_charge</th>\n",
       "      <th>vehicle_name_Aiways</th>\n",
       "      <th>vehicle_name_Audi</th>\n",
       "      <th>vehicle_name_BMW</th>\n",
       "      <th>vehicle_name_Byton</th>\n",
       "      <th>...</th>\n",
       "      <th>vehicle_name_Renault</th>\n",
       "      <th>vehicle_name_SEAT</th>\n",
       "      <th>vehicle_name_Seres</th>\n",
       "      <th>vehicle_name_Skoda</th>\n",
       "      <th>vehicle_name_Smart</th>\n",
       "      <th>vehicle_name_Sono</th>\n",
       "      <th>vehicle_name_Tesla</th>\n",
       "      <th>vehicle_name_Toyota</th>\n",
       "      <th>vehicle_name_Volkswagen</th>\n",
       "      <th>vehicle_name_Volvo</th>\n",
       "    </tr>\n",
       "  </thead>\n",
       "  <tbody>\n",
       "    <tr>\n",
       "      <th>179</th>\n",
       "      <td>45.0</td>\n",
       "      <td>12.1</td>\n",
       "      <td>130</td>\n",
       "      <td>185</td>\n",
       "      <td>243</td>\n",
       "      <td>250</td>\n",
       "      <td>0</td>\n",
       "      <td>0</td>\n",
       "      <td>0</td>\n",
       "      <td>0</td>\n",
       "      <td>...</td>\n",
       "      <td>0</td>\n",
       "      <td>0</td>\n",
       "      <td>0</td>\n",
       "      <td>0</td>\n",
       "      <td>0</td>\n",
       "      <td>0</td>\n",
       "      <td>0</td>\n",
       "      <td>0</td>\n",
       "      <td>0</td>\n",
       "      <td>0</td>\n",
       "    </tr>\n",
       "    <tr>\n",
       "      <th>180</th>\n",
       "      <td>45.0</td>\n",
       "      <td>12.1</td>\n",
       "      <td>130</td>\n",
       "      <td>185</td>\n",
       "      <td>243</td>\n",
       "      <td>250</td>\n",
       "      <td>0</td>\n",
       "      <td>0</td>\n",
       "      <td>0</td>\n",
       "      <td>0</td>\n",
       "      <td>...</td>\n",
       "      <td>0</td>\n",
       "      <td>0</td>\n",
       "      <td>0</td>\n",
       "      <td>0</td>\n",
       "      <td>0</td>\n",
       "      <td>0</td>\n",
       "      <td>0</td>\n",
       "      <td>0</td>\n",
       "      <td>0</td>\n",
       "      <td>0</td>\n",
       "    </tr>\n",
       "    <tr>\n",
       "      <th>181</th>\n",
       "      <td>45.0</td>\n",
       "      <td>12.1</td>\n",
       "      <td>130</td>\n",
       "      <td>185</td>\n",
       "      <td>243</td>\n",
       "      <td>250</td>\n",
       "      <td>0</td>\n",
       "      <td>0</td>\n",
       "      <td>0</td>\n",
       "      <td>0</td>\n",
       "      <td>...</td>\n",
       "      <td>0</td>\n",
       "      <td>0</td>\n",
       "      <td>0</td>\n",
       "      <td>0</td>\n",
       "      <td>0</td>\n",
       "      <td>0</td>\n",
       "      <td>0</td>\n",
       "      <td>0</td>\n",
       "      <td>0</td>\n",
       "      <td>0</td>\n",
       "    </tr>\n",
       "    <tr>\n",
       "      <th>182</th>\n",
       "      <td>45.0</td>\n",
       "      <td>13.1</td>\n",
       "      <td>130</td>\n",
       "      <td>185</td>\n",
       "      <td>243</td>\n",
       "      <td>250</td>\n",
       "      <td>0</td>\n",
       "      <td>0</td>\n",
       "      <td>0</td>\n",
       "      <td>0</td>\n",
       "      <td>...</td>\n",
       "      <td>0</td>\n",
       "      <td>0</td>\n",
       "      <td>0</td>\n",
       "      <td>0</td>\n",
       "      <td>0</td>\n",
       "      <td>0</td>\n",
       "      <td>0</td>\n",
       "      <td>0</td>\n",
       "      <td>0</td>\n",
       "      <td>0</td>\n",
       "    </tr>\n",
       "    <tr>\n",
       "      <th>183</th>\n",
       "      <td>45.0</td>\n",
       "      <td>12.1</td>\n",
       "      <td>130</td>\n",
       "      <td>180</td>\n",
       "      <td>250</td>\n",
       "      <td>240</td>\n",
       "      <td>0</td>\n",
       "      <td>0</td>\n",
       "      <td>0</td>\n",
       "      <td>0</td>\n",
       "      <td>...</td>\n",
       "      <td>0</td>\n",
       "      <td>0</td>\n",
       "      <td>0</td>\n",
       "      <td>0</td>\n",
       "      <td>0</td>\n",
       "      <td>0</td>\n",
       "      <td>0</td>\n",
       "      <td>0</td>\n",
       "      <td>0</td>\n",
       "      <td>0</td>\n",
       "    </tr>\n",
       "  </tbody>\n",
       "</table>\n",
       "<p>5 rows × 43 columns</p>\n",
       "</div>"
      ],
      "text/plain": [
       "     battery  acceleration  top_speed  distance  efficiency  fast_charge  \\\n",
       "179     45.0          12.1        130       185         243          250   \n",
       "180     45.0          12.1        130       185         243          250   \n",
       "181     45.0          12.1        130       185         243          250   \n",
       "182     45.0          13.1        130       185         243          250   \n",
       "183     45.0          12.1        130       180         250          240   \n",
       "\n",
       "     vehicle_name_Aiways  vehicle_name_Audi  vehicle_name_BMW  \\\n",
       "179                    0                  0                 0   \n",
       "180                    0                  0                 0   \n",
       "181                    0                  0                 0   \n",
       "182                    0                  0                 0   \n",
       "183                    0                  0                 0   \n",
       "\n",
       "     vehicle_name_Byton  ...  vehicle_name_Renault  vehicle_name_SEAT  \\\n",
       "179                   0  ...                     0                  0   \n",
       "180                   0  ...                     0                  0   \n",
       "181                   0  ...                     0                  0   \n",
       "182                   0  ...                     0                  0   \n",
       "183                   0  ...                     0                  0   \n",
       "\n",
       "     vehicle_name_Seres  vehicle_name_Skoda  vehicle_name_Smart  \\\n",
       "179                   0                   0                   0   \n",
       "180                   0                   0                   0   \n",
       "181                   0                   0                   0   \n",
       "182                   0                   0                   0   \n",
       "183                   0                   0                   0   \n",
       "\n",
       "     vehicle_name_Sono  vehicle_name_Tesla  vehicle_name_Toyota  \\\n",
       "179                  0                   0                    0   \n",
       "180                  0                   0                    0   \n",
       "181                  0                   0                    0   \n",
       "182                  0                   0                    0   \n",
       "183                  0                   0                    0   \n",
       "\n",
       "     vehicle_name_Volkswagen  vehicle_name_Volvo  \n",
       "179                        0                   0  \n",
       "180                        0                   0  \n",
       "181                        0                   0  \n",
       "182                        0                   0  \n",
       "183                        0                   0  \n",
       "\n",
       "[5 rows x 43 columns]"
      ]
     },
     "execution_count": 41,
     "metadata": {},
     "output_type": "execute_result"
    }
   ],
   "source": [
    "features.tail()"
   ]
  },
  {
   "cell_type": "code",
   "execution_count": 42,
   "metadata": {},
   "outputs": [
    {
     "data": {
      "text/plain": [
       "0    33898.0\n",
       "1    36915.0\n",
       "2    55924.0\n",
       "3    50818.0\n",
       "4    37246.0\n",
       "Name: price_usd, dtype: float32"
      ]
     },
     "execution_count": 42,
     "metadata": {},
     "output_type": "execute_result"
    }
   ],
   "source": [
    "y.head()"
   ]
  },
  {
   "cell_type": "markdown",
   "metadata": {},
   "source": [
    "## Normalizing the data using MinMax Scaler"
   ]
  },
  {
   "cell_type": "code",
   "execution_count": 43,
   "metadata": {},
   "outputs": [],
   "source": [
    "from sklearn.preprocessing import MinMaxScaler\n",
    "scaler = MinMaxScaler()\n",
    "x = pd.DataFrame(scaler.fit_transform(features), columns=features.columns)"
   ]
  },
  {
   "cell_type": "code",
   "execution_count": 44,
   "metadata": {},
   "outputs": [
    {
     "data": {
      "text/html": [
       "<div>\n",
       "<style scoped>\n",
       "    .dataframe tbody tr th:only-of-type {\n",
       "        vertical-align: middle;\n",
       "    }\n",
       "\n",
       "    .dataframe tbody tr th {\n",
       "        vertical-align: top;\n",
       "    }\n",
       "\n",
       "    .dataframe thead th {\n",
       "        text-align: right;\n",
       "    }\n",
       "</style>\n",
       "<table border=\"1\" class=\"dataframe\">\n",
       "  <thead>\n",
       "    <tr style=\"text-align: right;\">\n",
       "      <th></th>\n",
       "      <th>battery</th>\n",
       "      <th>acceleration</th>\n",
       "      <th>top_speed</th>\n",
       "      <th>distance</th>\n",
       "      <th>efficiency</th>\n",
       "      <th>fast_charge</th>\n",
       "      <th>vehicle_name_Aiways</th>\n",
       "      <th>vehicle_name_Audi</th>\n",
       "      <th>vehicle_name_BMW</th>\n",
       "      <th>vehicle_name_Byton</th>\n",
       "      <th>...</th>\n",
       "      <th>vehicle_name_Renault</th>\n",
       "      <th>vehicle_name_SEAT</th>\n",
       "      <th>vehicle_name_Seres</th>\n",
       "      <th>vehicle_name_Skoda</th>\n",
       "      <th>vehicle_name_Smart</th>\n",
       "      <th>vehicle_name_Sono</th>\n",
       "      <th>vehicle_name_Tesla</th>\n",
       "      <th>vehicle_name_Toyota</th>\n",
       "      <th>vehicle_name_Volkswagen</th>\n",
       "      <th>vehicle_name_Volvo</th>\n",
       "    </tr>\n",
       "  </thead>\n",
       "  <tbody>\n",
       "    <tr>\n",
       "      <th>0</th>\n",
       "      <td>0.236225</td>\n",
       "      <td>0.261084</td>\n",
       "      <td>0.128920</td>\n",
       "      <td>0.302857</td>\n",
       "      <td>0.355932</td>\n",
       "      <td>0.368794</td>\n",
       "      <td>0.0</td>\n",
       "      <td>0.0</td>\n",
       "      <td>0.0</td>\n",
       "      <td>0.0</td>\n",
       "      <td>...</td>\n",
       "      <td>1.0</td>\n",
       "      <td>0.0</td>\n",
       "      <td>0.0</td>\n",
       "      <td>0.0</td>\n",
       "      <td>0.0</td>\n",
       "      <td>0.0</td>\n",
       "      <td>0.0</td>\n",
       "      <td>0.0</td>\n",
       "      <td>0.0</td>\n",
       "      <td>0.0</td>\n",
       "    </tr>\n",
       "    <tr>\n",
       "      <th>1</th>\n",
       "      <td>0.195308</td>\n",
       "      <td>0.172414</td>\n",
       "      <td>0.355401</td>\n",
       "      <td>0.291429</td>\n",
       "      <td>0.259887</td>\n",
       "      <td>0.446809</td>\n",
       "      <td>0.0</td>\n",
       "      <td>0.0</td>\n",
       "      <td>0.0</td>\n",
       "      <td>0.0</td>\n",
       "      <td>...</td>\n",
       "      <td>0.0</td>\n",
       "      <td>0.0</td>\n",
       "      <td>0.0</td>\n",
       "      <td>0.0</td>\n",
       "      <td>0.0</td>\n",
       "      <td>0.0</td>\n",
       "      <td>1.0</td>\n",
       "      <td>0.0</td>\n",
       "      <td>0.0</td>\n",
       "      <td>0.0</td>\n",
       "    </tr>\n",
       "    <tr>\n",
       "      <th>2</th>\n",
       "      <td>0.331151</td>\n",
       "      <td>0.068966</td>\n",
       "      <td>0.477352</td>\n",
       "      <td>0.342857</td>\n",
       "      <td>0.519774</td>\n",
       "      <td>0.652482</td>\n",
       "      <td>0.0</td>\n",
       "      <td>0.0</td>\n",
       "      <td>0.0</td>\n",
       "      <td>0.0</td>\n",
       "      <td>...</td>\n",
       "      <td>0.0</td>\n",
       "      <td>0.0</td>\n",
       "      <td>0.0</td>\n",
       "      <td>0.0</td>\n",
       "      <td>0.0</td>\n",
       "      <td>0.0</td>\n",
       "      <td>0.0</td>\n",
       "      <td>0.0</td>\n",
       "      <td>0.0</td>\n",
       "      <td>0.0</td>\n",
       "    </tr>\n",
       "    <tr>\n",
       "      <th>3</th>\n",
       "      <td>0.290780</td>\n",
       "      <td>0.142857</td>\n",
       "      <td>0.327526</td>\n",
       "      <td>0.360000</td>\n",
       "      <td>0.378531</td>\n",
       "      <td>0.418440</td>\n",
       "      <td>0.0</td>\n",
       "      <td>0.0</td>\n",
       "      <td>0.0</td>\n",
       "      <td>0.0</td>\n",
       "      <td>...</td>\n",
       "      <td>0.0</td>\n",
       "      <td>0.0</td>\n",
       "      <td>0.0</td>\n",
       "      <td>0.0</td>\n",
       "      <td>0.0</td>\n",
       "      <td>0.0</td>\n",
       "      <td>1.0</td>\n",
       "      <td>0.0</td>\n",
       "      <td>0.0</td>\n",
       "      <td>0.0</td>\n",
       "    </tr>\n",
       "    <tr>\n",
       "      <th>4</th>\n",
       "      <td>0.328969</td>\n",
       "      <td>0.320197</td>\n",
       "      <td>0.128920</td>\n",
       "      <td>0.371429</td>\n",
       "      <td>0.446328</td>\n",
       "      <td>0.361702</td>\n",
       "      <td>0.0</td>\n",
       "      <td>0.0</td>\n",
       "      <td>0.0</td>\n",
       "      <td>0.0</td>\n",
       "      <td>...</td>\n",
       "      <td>0.0</td>\n",
       "      <td>0.0</td>\n",
       "      <td>0.0</td>\n",
       "      <td>1.0</td>\n",
       "      <td>0.0</td>\n",
       "      <td>0.0</td>\n",
       "      <td>0.0</td>\n",
       "      <td>0.0</td>\n",
       "      <td>0.0</td>\n",
       "      <td>0.0</td>\n",
       "    </tr>\n",
       "  </tbody>\n",
       "</table>\n",
       "<p>5 rows × 43 columns</p>\n",
       "</div>"
      ],
      "text/plain": [
       "    battery  acceleration  top_speed  distance  efficiency  fast_charge  \\\n",
       "0  0.236225      0.261084   0.128920  0.302857    0.355932     0.368794   \n",
       "1  0.195308      0.172414   0.355401  0.291429    0.259887     0.446809   \n",
       "2  0.331151      0.068966   0.477352  0.342857    0.519774     0.652482   \n",
       "3  0.290780      0.142857   0.327526  0.360000    0.378531     0.418440   \n",
       "4  0.328969      0.320197   0.128920  0.371429    0.446328     0.361702   \n",
       "\n",
       "   vehicle_name_Aiways  vehicle_name_Audi  vehicle_name_BMW  \\\n",
       "0                  0.0                0.0               0.0   \n",
       "1                  0.0                0.0               0.0   \n",
       "2                  0.0                0.0               0.0   \n",
       "3                  0.0                0.0               0.0   \n",
       "4                  0.0                0.0               0.0   \n",
       "\n",
       "   vehicle_name_Byton  ...  vehicle_name_Renault  vehicle_name_SEAT  \\\n",
       "0                 0.0  ...                   1.0                0.0   \n",
       "1                 0.0  ...                   0.0                0.0   \n",
       "2                 0.0  ...                   0.0                0.0   \n",
       "3                 0.0  ...                   0.0                0.0   \n",
       "4                 0.0  ...                   0.0                0.0   \n",
       "\n",
       "   vehicle_name_Seres  vehicle_name_Skoda  vehicle_name_Smart  \\\n",
       "0                 0.0                 0.0                 0.0   \n",
       "1                 0.0                 0.0                 0.0   \n",
       "2                 0.0                 0.0                 0.0   \n",
       "3                 0.0                 0.0                 0.0   \n",
       "4                 0.0                 1.0                 0.0   \n",
       "\n",
       "   vehicle_name_Sono  vehicle_name_Tesla  vehicle_name_Toyota  \\\n",
       "0                0.0                 0.0                  0.0   \n",
       "1                0.0                 1.0                  0.0   \n",
       "2                0.0                 0.0                  0.0   \n",
       "3                0.0                 1.0                  0.0   \n",
       "4                0.0                 0.0                  0.0   \n",
       "\n",
       "   vehicle_name_Volkswagen  vehicle_name_Volvo  \n",
       "0                      0.0                 0.0  \n",
       "1                      0.0                 0.0  \n",
       "2                      0.0                 0.0  \n",
       "3                      0.0                 0.0  \n",
       "4                      0.0                 0.0  \n",
       "\n",
       "[5 rows x 43 columns]"
      ]
     },
     "execution_count": 44,
     "metadata": {},
     "output_type": "execute_result"
    }
   ],
   "source": [
    "x.head()"
   ]
  },
  {
   "cell_type": "code",
   "execution_count": 45,
   "metadata": {},
   "outputs": [
    {
     "data": {
      "text/html": [
       "<div>\n",
       "<style scoped>\n",
       "    .dataframe tbody tr th:only-of-type {\n",
       "        vertical-align: middle;\n",
       "    }\n",
       "\n",
       "    .dataframe tbody tr th {\n",
       "        vertical-align: top;\n",
       "    }\n",
       "\n",
       "    .dataframe thead th {\n",
       "        text-align: right;\n",
       "    }\n",
       "</style>\n",
       "<table border=\"1\" class=\"dataframe\">\n",
       "  <thead>\n",
       "    <tr style=\"text-align: right;\">\n",
       "      <th></th>\n",
       "      <th>battery</th>\n",
       "      <th>acceleration</th>\n",
       "      <th>top_speed</th>\n",
       "      <th>distance</th>\n",
       "      <th>efficiency</th>\n",
       "      <th>fast_charge</th>\n",
       "      <th>vehicle_name_Aiways</th>\n",
       "      <th>vehicle_name_Audi</th>\n",
       "      <th>vehicle_name_BMW</th>\n",
       "      <th>vehicle_name_Byton</th>\n",
       "      <th>...</th>\n",
       "      <th>vehicle_name_Renault</th>\n",
       "      <th>vehicle_name_SEAT</th>\n",
       "      <th>vehicle_name_Seres</th>\n",
       "      <th>vehicle_name_Skoda</th>\n",
       "      <th>vehicle_name_Smart</th>\n",
       "      <th>vehicle_name_Sono</th>\n",
       "      <th>vehicle_name_Tesla</th>\n",
       "      <th>vehicle_name_Toyota</th>\n",
       "      <th>vehicle_name_Volkswagen</th>\n",
       "      <th>vehicle_name_Volvo</th>\n",
       "    </tr>\n",
       "  </thead>\n",
       "  <tbody>\n",
       "    <tr>\n",
       "      <th>179</th>\n",
       "      <td>0.154392</td>\n",
       "      <td>0.492611</td>\n",
       "      <td>0.02439</td>\n",
       "      <td>0.102857</td>\n",
       "      <td>0.785311</td>\n",
       "      <td>0.177305</td>\n",
       "      <td>0.0</td>\n",
       "      <td>0.0</td>\n",
       "      <td>0.0</td>\n",
       "      <td>0.0</td>\n",
       "      <td>...</td>\n",
       "      <td>0.0</td>\n",
       "      <td>0.0</td>\n",
       "      <td>0.0</td>\n",
       "      <td>0.0</td>\n",
       "      <td>0.0</td>\n",
       "      <td>0.0</td>\n",
       "      <td>0.0</td>\n",
       "      <td>0.0</td>\n",
       "      <td>0.0</td>\n",
       "      <td>0.0</td>\n",
       "    </tr>\n",
       "    <tr>\n",
       "      <th>180</th>\n",
       "      <td>0.154392</td>\n",
       "      <td>0.492611</td>\n",
       "      <td>0.02439</td>\n",
       "      <td>0.102857</td>\n",
       "      <td>0.785311</td>\n",
       "      <td>0.177305</td>\n",
       "      <td>0.0</td>\n",
       "      <td>0.0</td>\n",
       "      <td>0.0</td>\n",
       "      <td>0.0</td>\n",
       "      <td>...</td>\n",
       "      <td>0.0</td>\n",
       "      <td>0.0</td>\n",
       "      <td>0.0</td>\n",
       "      <td>0.0</td>\n",
       "      <td>0.0</td>\n",
       "      <td>0.0</td>\n",
       "      <td>0.0</td>\n",
       "      <td>0.0</td>\n",
       "      <td>0.0</td>\n",
       "      <td>0.0</td>\n",
       "    </tr>\n",
       "    <tr>\n",
       "      <th>181</th>\n",
       "      <td>0.154392</td>\n",
       "      <td>0.492611</td>\n",
       "      <td>0.02439</td>\n",
       "      <td>0.102857</td>\n",
       "      <td>0.785311</td>\n",
       "      <td>0.177305</td>\n",
       "      <td>0.0</td>\n",
       "      <td>0.0</td>\n",
       "      <td>0.0</td>\n",
       "      <td>0.0</td>\n",
       "      <td>...</td>\n",
       "      <td>0.0</td>\n",
       "      <td>0.0</td>\n",
       "      <td>0.0</td>\n",
       "      <td>0.0</td>\n",
       "      <td>0.0</td>\n",
       "      <td>0.0</td>\n",
       "      <td>0.0</td>\n",
       "      <td>0.0</td>\n",
       "      <td>0.0</td>\n",
       "      <td>0.0</td>\n",
       "    </tr>\n",
       "    <tr>\n",
       "      <th>182</th>\n",
       "      <td>0.154392</td>\n",
       "      <td>0.541872</td>\n",
       "      <td>0.02439</td>\n",
       "      <td>0.102857</td>\n",
       "      <td>0.785311</td>\n",
       "      <td>0.177305</td>\n",
       "      <td>0.0</td>\n",
       "      <td>0.0</td>\n",
       "      <td>0.0</td>\n",
       "      <td>0.0</td>\n",
       "      <td>...</td>\n",
       "      <td>0.0</td>\n",
       "      <td>0.0</td>\n",
       "      <td>0.0</td>\n",
       "      <td>0.0</td>\n",
       "      <td>0.0</td>\n",
       "      <td>0.0</td>\n",
       "      <td>0.0</td>\n",
       "      <td>0.0</td>\n",
       "      <td>0.0</td>\n",
       "      <td>0.0</td>\n",
       "    </tr>\n",
       "    <tr>\n",
       "      <th>183</th>\n",
       "      <td>0.154392</td>\n",
       "      <td>0.492611</td>\n",
       "      <td>0.02439</td>\n",
       "      <td>0.097143</td>\n",
       "      <td>0.824859</td>\n",
       "      <td>0.170213</td>\n",
       "      <td>0.0</td>\n",
       "      <td>0.0</td>\n",
       "      <td>0.0</td>\n",
       "      <td>0.0</td>\n",
       "      <td>...</td>\n",
       "      <td>0.0</td>\n",
       "      <td>0.0</td>\n",
       "      <td>0.0</td>\n",
       "      <td>0.0</td>\n",
       "      <td>0.0</td>\n",
       "      <td>0.0</td>\n",
       "      <td>0.0</td>\n",
       "      <td>0.0</td>\n",
       "      <td>0.0</td>\n",
       "      <td>0.0</td>\n",
       "    </tr>\n",
       "  </tbody>\n",
       "</table>\n",
       "<p>5 rows × 43 columns</p>\n",
       "</div>"
      ],
      "text/plain": [
       "      battery  acceleration  top_speed  distance  efficiency  fast_charge  \\\n",
       "179  0.154392      0.492611    0.02439  0.102857    0.785311     0.177305   \n",
       "180  0.154392      0.492611    0.02439  0.102857    0.785311     0.177305   \n",
       "181  0.154392      0.492611    0.02439  0.102857    0.785311     0.177305   \n",
       "182  0.154392      0.541872    0.02439  0.102857    0.785311     0.177305   \n",
       "183  0.154392      0.492611    0.02439  0.097143    0.824859     0.170213   \n",
       "\n",
       "     vehicle_name_Aiways  vehicle_name_Audi  vehicle_name_BMW  \\\n",
       "179                  0.0                0.0               0.0   \n",
       "180                  0.0                0.0               0.0   \n",
       "181                  0.0                0.0               0.0   \n",
       "182                  0.0                0.0               0.0   \n",
       "183                  0.0                0.0               0.0   \n",
       "\n",
       "     vehicle_name_Byton  ...  vehicle_name_Renault  vehicle_name_SEAT  \\\n",
       "179                 0.0  ...                   0.0                0.0   \n",
       "180                 0.0  ...                   0.0                0.0   \n",
       "181                 0.0  ...                   0.0                0.0   \n",
       "182                 0.0  ...                   0.0                0.0   \n",
       "183                 0.0  ...                   0.0                0.0   \n",
       "\n",
       "     vehicle_name_Seres  vehicle_name_Skoda  vehicle_name_Smart  \\\n",
       "179                 0.0                 0.0                 0.0   \n",
       "180                 0.0                 0.0                 0.0   \n",
       "181                 0.0                 0.0                 0.0   \n",
       "182                 0.0                 0.0                 0.0   \n",
       "183                 0.0                 0.0                 0.0   \n",
       "\n",
       "     vehicle_name_Sono  vehicle_name_Tesla  vehicle_name_Toyota  \\\n",
       "179                0.0                 0.0                  0.0   \n",
       "180                0.0                 0.0                  0.0   \n",
       "181                0.0                 0.0                  0.0   \n",
       "182                0.0                 0.0                  0.0   \n",
       "183                0.0                 0.0                  0.0   \n",
       "\n",
       "     vehicle_name_Volkswagen  vehicle_name_Volvo  \n",
       "179                      0.0                 0.0  \n",
       "180                      0.0                 0.0  \n",
       "181                      0.0                 0.0  \n",
       "182                      0.0                 0.0  \n",
       "183                      0.0                 0.0  \n",
       "\n",
       "[5 rows x 43 columns]"
      ]
     },
     "execution_count": 45,
     "metadata": {},
     "output_type": "execute_result"
    }
   ],
   "source": [
    "x.tail()"
   ]
  },
  {
   "cell_type": "markdown",
   "metadata": {},
   "source": [
    "## Train Test Split\n"
   ]
  },
  {
   "cell_type": "code",
   "execution_count": 46,
   "metadata": {},
   "outputs": [],
   "source": [
    "## Train Test split\n",
    "from sklearn.model_selection import train_test_split\n",
    "x_train, x_test, y_train, y_test = train_test_split(x, y, test_size=0.3, random_state=101)"
   ]
  },
  {
   "cell_type": "markdown",
   "metadata": {},
   "source": [
    "## Linear Regression\n"
   ]
  },
  {
   "cell_type": "code",
   "execution_count": 47,
   "metadata": {},
   "outputs": [],
   "source": [
    "# Import Linear Regression Model\n",
    "from sklearn.linear_model import LinearRegression\n",
    "linear_model = LinearRegression()\n",
    "#fit the model to the training dataset\n",
    "linear_model.fit(x_train, y_train)\n",
    "#obtain predictions\n",
    "pred_1 = linear_model.predict(x_test)"
   ]
  },
  {
   "cell_type": "code",
   "execution_count": 48,
   "metadata": {},
   "outputs": [],
   "source": [
    "# Import Metrics for evaluation\n",
    "from sklearn import metrics"
   ]
  },
  {
   "cell_type": "code",
   "execution_count": 49,
   "metadata": {},
   "outputs": [
    {
     "name": "stdout",
     "output_type": "stream",
     "text": [
      "Mean Absolute Error (MAE) 8729.888287493433\n",
      "Mean Square Error (MSE) 266966761.3825944\n",
      "Root Mean Square Error (RMSE) 16339.117521536908\n",
      "R2 score 0.7011794306433308\n",
      "Explained Variance score 0.7036178278326817\n"
     ]
    }
   ],
   "source": [
    "print('Mean Absolute Error (MAE)', metrics.mean_absolute_error(y_test,pred_1))\n",
    "print('Mean Square Error (MSE)', metrics.mean_squared_error(y_test,pred_1))\n",
    "print('Root Mean Square Error (RMSE)', np.sqrt(metrics.mean_squared_error(y_test,pred_1)))\n",
    "print('R2 score', metrics.r2_score(y_test,pred_1))\n",
    "print('Explained Variance score', metrics.explained_variance_score(y_test,pred_1))"
   ]
  },
  {
   "cell_type": "markdown",
   "metadata": {},
   "source": [
    "## Random Forest with Estimators 300"
   ]
  },
  {
   "cell_type": "code",
   "execution_count": 50,
   "metadata": {},
   "outputs": [],
   "source": [
    "#Import Random Forest Estimators 300\n",
    "from sklearn.ensemble import RandomForestRegressor\n",
    "rfc_300 = RandomForestRegressor(n_estimators=300)\n",
    "rfc_300.fit(x_train,y_train)\n",
    "pred_2 = rfc_300.predict(x_test)"
   ]
  },
  {
   "cell_type": "code",
   "execution_count": 51,
   "metadata": {},
   "outputs": [
    {
     "name": "stdout",
     "output_type": "stream",
     "text": [
      "Mean Absolute Error (MAE) 8135.583888888888\n",
      "Mean Square Error (MSE) 276589849.0656766\n",
      "Root Mean Square Error (RMSE) 16630.990621898523\n",
      "R2 score 0.6904081401443359\n",
      "Explained Variance score 0.6935039645565302\n"
     ]
    }
   ],
   "source": [
    "print('Mean Absolute Error (MAE)', metrics.mean_absolute_error(y_test,pred_2))\n",
    "print('Mean Square Error (MSE)', metrics.mean_squared_error(y_test,pred_2))\n",
    "print('Root Mean Square Error (RMSE)', np.sqrt(metrics.mean_squared_error(y_test,pred_2)))\n",
    "print('R2 score', metrics.r2_score(y_test,pred_2))\n",
    "print('Explained Variance score', metrics.explained_variance_score(y_test,pred_2))"
   ]
  },
  {
   "cell_type": "markdown",
   "metadata": {},
   "source": [
    "## Random Forest with Estimators 400"
   ]
  },
  {
   "cell_type": "code",
   "execution_count": 52,
   "metadata": {},
   "outputs": [],
   "source": [
    "rfc_400 = RandomForestRegressor(n_estimators=400)\n",
    "rfc_400.fit(x_train,y_train)\n",
    "pred_3 = rfc_400.predict(x_test)"
   ]
  },
  {
   "cell_type": "code",
   "execution_count": 53,
   "metadata": {},
   "outputs": [
    {
     "name": "stdout",
     "output_type": "stream",
     "text": [
      "Mean Absolute Error (MAE) 7950.1963619260205\n",
      "Mean Square Error (MSE) 273212877.7341929\n",
      "Root Mean Square Error (RMSE) 16529.152359821506\n",
      "R2 score 0.6941880432706616\n",
      "Explained Variance score 0.6975016350951861\n"
     ]
    }
   ],
   "source": [
    "print('Mean Absolute Error (MAE)', metrics.mean_absolute_error(y_test,pred_3))\n",
    "print('Mean Square Error (MSE)', metrics.mean_squared_error(y_test,pred_3))\n",
    "print('Root Mean Square Error (RMSE)', np.sqrt(metrics.mean_squared_error(y_test,pred_3)))\n",
    "print('R2 score', metrics.r2_score(y_test,pred_3))\n",
    "print('Explained Variance score', metrics.explained_variance_score(y_test,pred_3))"
   ]
  },
  {
   "cell_type": "markdown",
   "metadata": {},
   "source": [
    "## Random Forest with Estimators 500"
   ]
  },
  {
   "cell_type": "code",
   "execution_count": 54,
   "metadata": {},
   "outputs": [],
   "source": [
    "rfc_500 = RandomForestRegressor(n_estimators=500)\n",
    "rfc_500.fit(x_train,y_train)\n",
    "pred_4 = rfc_500.predict(x_test)"
   ]
  },
  {
   "cell_type": "code",
   "execution_count": 55,
   "metadata": {},
   "outputs": [
    {
     "name": "stdout",
     "output_type": "stream",
     "text": [
      "Mean Absolute Error (MAE) 8053.685097066327\n",
      "Mean Square Error (MSE) 271088569.3930343\n",
      "Root Mean Square Error (RMSE) 16464.767517126813\n",
      "R2 score 0.696565818783638\n",
      "Explained Variance score 0.6996530093806419\n"
     ]
    }
   ],
   "source": [
    "print('Mean Absolute Error (MAE)', metrics.mean_absolute_error(y_test,pred_4))\n",
    "print('Mean Square Error (MSE)', metrics.mean_squared_error(y_test,pred_4))\n",
    "print('Root Mean Square Error (RMSE)', np.sqrt(metrics.mean_squared_error(y_test,pred_4)))\n",
    "print('R2 score', metrics.r2_score(y_test,pred_4))\n",
    "print('Explained Variance score', metrics.explained_variance_score(y_test,pred_4))"
   ]
  },
  {
   "cell_type": "markdown",
   "metadata": {},
   "source": [
    "## Random Forest with Estimators 600"
   ]
  },
  {
   "cell_type": "code",
   "execution_count": 56,
   "metadata": {},
   "outputs": [],
   "source": [
    "rfc_600 = RandomForestRegressor(n_estimators=600)\n",
    "rfc_600.fit(x_train,y_train)\n",
    "pred_5 = rfc_600.predict(x_test)"
   ]
  },
  {
   "cell_type": "code",
   "execution_count": 57,
   "metadata": {},
   "outputs": [
    {
     "name": "stdout",
     "output_type": "stream",
     "text": [
      "Mean Absolute Error (MAE) 8063.327049142573\n",
      "Mean Square Error (MSE) 272463868.9879423\n",
      "Root Mean Square Error (RMSE) 16506.479606140805\n",
      "R2 score 0.6950264218719848\n",
      "Explained Variance score 0.6974374794777678\n"
     ]
    }
   ],
   "source": [
    "print('Mean Absolute Error (MAE)', metrics.mean_absolute_error(y_test,pred_5))\n",
    "print('Mean Square Error (MSE)', metrics.mean_squared_error(y_test,pred_5))\n",
    "print('Root Mean Square Error (RMSE)', np.sqrt(metrics.mean_squared_error(y_test,pred_5)))\n",
    "print('R2 score', metrics.r2_score(y_test,pred_5))\n",
    "print('Explained Variance score', metrics.explained_variance_score(y_test,pred_5))"
   ]
  },
  {
   "cell_type": "markdown",
   "metadata": {},
   "source": [
    "## Random Forest with Estimators 700"
   ]
  },
  {
   "cell_type": "code",
   "execution_count": 58,
   "metadata": {},
   "outputs": [],
   "source": [
    "rfc_700 = RandomForestRegressor(n_estimators=700)\n",
    "rfc_700.fit(x_train,y_train)\n",
    "pred_6 = rfc_700.predict(x_test)"
   ]
  },
  {
   "cell_type": "code",
   "execution_count": 59,
   "metadata": {},
   "outputs": [
    {
     "name": "stdout",
     "output_type": "stream",
     "text": [
      "Mean Absolute Error (MAE) 7861.6719524113205\n",
      "Mean Square Error (MSE) 268659330.2515928\n",
      "Root Mean Square Error (RMSE) 16390.83067606986\n",
      "R2 score 0.6992849086792852\n",
      "Explained Variance score 0.7025497110013783\n"
     ]
    }
   ],
   "source": [
    "print('Mean Absolute Error (MAE)', metrics.mean_absolute_error(y_test,pred_6))\n",
    "print('Mean Square Error (MSE)', metrics.mean_squared_error(y_test,pred_6))\n",
    "print('Root Mean Square Error (RMSE)', np.sqrt(metrics.mean_squared_error(y_test,pred_6)))\n",
    "print('R2 score', metrics.r2_score(y_test,pred_6))\n",
    "print('Explained Variance score', metrics.explained_variance_score(y_test,pred_6))"
   ]
  },
  {
   "cell_type": "markdown",
   "metadata": {},
   "source": [
    "## Random Forest with Estimators 800"
   ]
  },
  {
   "cell_type": "code",
   "execution_count": 60,
   "metadata": {},
   "outputs": [],
   "source": [
    "rfc_800 = RandomForestRegressor(n_estimators=800)\n",
    "rfc_800.fit(x_train,y_train)\n",
    "pred_7 = rfc_800.predict(x_test)"
   ]
  },
  {
   "cell_type": "code",
   "execution_count": 61,
   "metadata": {},
   "outputs": [
    {
     "name": "stdout",
     "output_type": "stream",
     "text": [
      "Mean Absolute Error (MAE) 7980.751054368623\n",
      "Mean Square Error (MSE) 272362278.4466277\n",
      "Root Mean Square Error (RMSE) 16503.40202644981\n",
      "R2 score 0.6951401339432541\n",
      "Explained Variance score 0.6987691717852748\n"
     ]
    }
   ],
   "source": [
    "print('Mean Absolute Error (MAE)', metrics.mean_absolute_error(y_test,pred_7))\n",
    "print('Mean Square Error (MSE)', metrics.mean_squared_error(y_test,pred_7))\n",
    "print('Root Mean Square Error (RMSE)', np.sqrt(metrics.mean_squared_error(y_test,pred_7)))\n",
    "print('R2 score', metrics.r2_score(y_test,pred_7))\n",
    "print('Explained Variance score', metrics.explained_variance_score(y_test,pred_7))"
   ]
  },
  {
   "cell_type": "markdown",
   "metadata": {},
   "source": [
    "## Random Forest with Estimators 900"
   ]
  },
  {
   "cell_type": "code",
   "execution_count": 62,
   "metadata": {},
   "outputs": [],
   "source": [
    "rfc_900 = RandomForestRegressor(n_estimators=900)\n",
    "rfc_900.fit(x_train,y_train)\n",
    "pred_8 = rfc_900.predict(x_test)"
   ]
  },
  {
   "cell_type": "code",
   "execution_count": 63,
   "metadata": {},
   "outputs": [
    {
     "name": "stdout",
     "output_type": "stream",
     "text": [
      "Mean Absolute Error (MAE) 8039.982573011148\n",
      "Mean Square Error (MSE) 271913535.4686009\n",
      "Root Mean Square Error (RMSE) 16489.800952970927\n",
      "R2 score 0.6956424198139532\n",
      "Explained Variance score 0.6982465205224998\n"
     ]
    }
   ],
   "source": [
    "print('Mean Absolute Error (MAE)', metrics.mean_absolute_error(y_test,pred_8))\n",
    "print('Mean Square Error (MSE)', metrics.mean_squared_error(y_test,pred_8))\n",
    "print('Root Mean Square Error (RMSE)', np.sqrt(metrics.mean_squared_error(y_test,pred_8)))\n",
    "print('R2 score', metrics.r2_score(y_test,pred_8))\n",
    "print('Explained Variance score', metrics.explained_variance_score(y_test,pred_8))"
   ]
  },
  {
   "cell_type": "markdown",
   "metadata": {},
   "source": [
    "## Xgboost Model"
   ]
  },
  {
   "cell_type": "code",
   "execution_count": 64,
   "metadata": {},
   "outputs": [],
   "source": [
    "## Xgboost#Xgboost Model\n",
    "from xgboost import XGBRegressor\n",
    "xgb = XGBRegressor(n_estimators=1000, max_depth=7, eta=0.1, subsample=0.7, colsample_bytree=0.8)\n",
    "xgb.fit(x_train,y_train)\n",
    "pred_9 = xgb.predict(x_test)"
   ]
  },
  {
   "cell_type": "code",
   "execution_count": 65,
   "metadata": {},
   "outputs": [
    {
     "name": "stdout",
     "output_type": "stream",
     "text": [
      "Mean Absolute Error (MAE) 7153.366\n",
      "Mean Square Error (MSE) 237203310.0\n",
      "Root Mean Square Error (RMSE) 15401.406\n",
      "R2 score 0.7344941401394225\n",
      "Explained Variance score 0.7363026142120361\n"
     ]
    }
   ],
   "source": [
    "print('Mean Absolute Error (MAE)', metrics.mean_absolute_error(y_test,pred_9))\n",
    "print('Mean Square Error (MSE)', metrics.mean_squared_error(y_test,pred_9))\n",
    "print('Root Mean Square Error (RMSE)', np.sqrt(metrics.mean_squared_error(y_test,pred_9))) #RMSE\n",
    "print('R2 score', metrics.r2_score(y_test,pred_9)) #R2 Score\n",
    "print('Explained Variance score', metrics.explained_variance_score(y_test,pred_9))"
   ]
  },
  {
   "cell_type": "markdown",
   "metadata": {},
   "source": [
    "## End of Notebook"
   ]
  },
  {
   "cell_type": "code",
   "execution_count": null,
   "metadata": {},
   "outputs": [],
   "source": []
  }
 ],
 "metadata": {
  "kernelspec": {
   "display_name": "Python 3",
   "language": "python",
   "name": "python3"
  },
  "language_info": {
   "codemirror_mode": {
    "name": "ipython",
    "version": 3
   },
   "file_extension": ".py",
   "mimetype": "text/x-python",
   "name": "python",
   "nbconvert_exporter": "python",
   "pygments_lexer": "ipython3",
   "version": "3.8.3"
  }
 },
 "nbformat": 4,
 "nbformat_minor": 4
}
